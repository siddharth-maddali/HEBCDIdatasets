{
 "cells": [
  {
   "cell_type": "markdown",
   "metadata": {},
   "source": [
    "# Various assumptions and physical approximations for coherent diffraction\n",
    "1. for a monochromatic spherical wave expanding outward from a point, The far(thest)-field  regime is when:\n",
    "$$\n",
    "r >> \\lambda\n",
    "$$\n",
    "where $r$ is the distance from the disturbance point and $\\lambda$ is the wavelength.\n",
    "\n",
    "1. The _Sommerfeld radiation condition_ says that a disturbance $U(r)$ drops off at least as fast as an outgoing spherical wave:\n",
    "$$\n",
    "\\lim_{r \\longrightarrow \\infty} r^2 \\left( \\frac{\\partial U}{\\partial n} - ikU\\right) = 0\n",
    "$$\n",
    "This is important for certain mathematical approximations.\n",
    "\n",
    "1. Diffraction limited imaging: object begin eimaged ahould be mugh bigger than the wavelength of light being used to image it."
   ]
  }
 ],
 "metadata": {
  "kernelspec": {
   "display_name": "Python 2",
   "language": "python",
   "name": "python2"
  },
  "language_info": {
   "codemirror_mode": {
    "name": "ipython",
    "version": 2
   },
   "file_extension": ".py",
   "mimetype": "text/x-python",
   "name": "python",
   "nbconvert_exporter": "python",
   "pygments_lexer": "ipython2",
   "version": "2.7.13"
  }
 },
 "nbformat": 4,
 "nbformat_minor": 2
}
