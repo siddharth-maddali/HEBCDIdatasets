{
 "cells": [
  {
   "cell_type": "markdown",
   "metadata": {},
   "source": [
    "Example script for `joblib` performance for simple tasks. Speed comparisons are done of identical tasks performed serially and in parallel."
   ]
  },
  {
   "cell_type": "code",
   "execution_count": 1,
   "metadata": {
    "collapsed": true
   },
   "outputs": [],
   "source": [
    "from joblib import Parallel, delayed\n",
    "import numpy as np\n",
    "import time"
   ]
  },
  {
   "cell_type": "code",
   "execution_count": 14,
   "metadata": {
    "collapsed": false
   },
   "outputs": [
    {
     "name": "stdout",
     "output_type": "stream",
     "text": [
      "[ 0.32114997  0.60423388  0.58296399  0.71762961  0.16244359  0.70634955\n",
      "  0.96517479  0.94743888  0.93307019  0.79687702]\n",
      "[ 0.  0.  0.  0.  0.  0.  0.  0.  0.  0.]\n"
     ]
    }
   ],
   "source": [
    "arr = np.random.rand( 10 )\n",
    "arr2 = np.zeros( arr.shape )\n",
    "print arr\n",
    "print arr2"
   ]
  },
  {
   "cell_type": "code",
   "execution_count": 31,
   "metadata": {
    "collapsed": false
   },
   "outputs": [],
   "source": [
    "def MyAvg( arr, i ):\n",
    "    time.sleep( 1 )\n",
    "    if i == 0:\n",
    "        arr2[i] = ( arr[i] + arr[i+1] ) / 2.\n",
    "    elif i == len( arr )-1:\n",
    "        arr2[i] = ( arr[i] + arr[i-1] ) / 2.\n",
    "    else:\n",
    "        arr2[i] = ( arr[i-1] + arr[i] + arr[i+1 ] ) / 3.\n",
    "    return\n",
    "            "
   ]
  },
  {
   "cell_type": "markdown",
   "metadata": {},
   "source": [
    "First timing the simple serial task."
   ]
  },
  {
   "cell_type": "code",
   "execution_count": 39,
   "metadata": {
    "collapsed": false
   },
   "outputs": [
    {
     "name": "stdout",
     "output_type": "stream",
     "text": [
      "[ 0.46269192  0.50278261  0.63494249  0.48767906  0.52880758  0.61132264\n",
      "  0.87298774  0.94856129  0.89246203  0.8649736 ]\n",
      "Time taken for serial execution =  10.0131108761\n"
     ]
    }
   ],
   "source": [
    "arr2 = np.zeros( arr.shape )\n",
    "start = time.time()\n",
    "for i in range( len( arr ) ):\n",
    "    MyAvg( arr, i )\n",
    "stop = time.time()\n",
    "print arr2\n",
    "print 'Time taken for serial execution = ', stop - start"
   ]
  },
  {
   "cell_type": "markdown",
   "metadata": {},
   "source": [
    "Now parallelizing it."
   ]
  },
  {
   "cell_type": "code",
   "execution_count": 41,
   "metadata": {
    "collapsed": false
   },
   "outputs": [
    {
     "name": "stdout",
     "output_type": "stream",
     "text": [
      "[ 0.46269192  0.50278261  0.63494249  0.48767906  0.52880758  0.61132264\n",
      "  0.87298774  0.94856129  0.89246203  0.8649736 ]\n",
      "Time taken for serial execution =  2.01117897034\n"
     ]
    }
   ],
   "source": [
    "arr2 = np.zeros( arr.shape )\n",
    "start = time.time()\n",
    "Parallel( n_jobs=5, backend='threading' )( \n",
    "    delayed( MyAvg )( arr, i ) for i in range( len( arr ) ) \n",
    ")\n",
    "stop = time.time()\n",
    "print arr2\n",
    "print 'Time taken for serial execution = ', stop - start"
   ]
  }
 ],
 "metadata": {
  "kernelspec": {
   "display_name": "Python 2",
   "language": "python",
   "name": "python2"
  },
  "language_info": {
   "codemirror_mode": {
    "name": "ipython",
    "version": 2
   },
   "file_extension": ".py",
   "mimetype": "text/x-python",
   "name": "python",
   "nbconvert_exporter": "python",
   "pygments_lexer": "ipython2",
   "version": "2.7.13"
  }
 },
 "nbformat": 4,
 "nbformat_minor": 2
}
